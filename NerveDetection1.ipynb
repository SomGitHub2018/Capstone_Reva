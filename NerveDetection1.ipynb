{
  "nbformat": 4,
  "nbformat_minor": 0,
  "metadata": {
    "colab": {
      "name": "NerveDetection1.ipynb",
      "provenance": []
    },
    "kernelspec": {
      "name": "python3",
      "display_name": "Python 3"
    }
  },
  "cells": [
    {
      "cell_type": "code",
      "metadata": {
        "id": "W1KAgGcb7RIx",
        "colab_type": "code",
        "outputId": "d507bf0f-f9a0-45dc-b560-c25e7ca65397",
        "colab": {
          "base_uri": "https://localhost:8080/",
          "height": 85
        }
      },
      "source": [
        "!pip install xmltodict"
      ],
      "execution_count": 0,
      "outputs": [
        {
          "output_type": "stream",
          "text": [
            "Collecting xmltodict\n",
            "  Downloading https://files.pythonhosted.org/packages/28/fd/30d5c1d3ac29ce229f6bdc40bbc20b28f716e8b363140c26eff19122d8a5/xmltodict-0.12.0-py2.py3-none-any.whl\n",
            "Installing collected packages: xmltodict\n",
            "Successfully installed xmltodict-0.12.0\n"
          ],
          "name": "stdout"
        }
      ]
    },
    {
      "cell_type": "code",
      "metadata": {
        "id": "ARGCIYme1RSU",
        "colab_type": "code",
        "colab": {}
      },
      "source": [
        "input_dim = 228\n",
        "\n",
        "from PIL import Image , ImageDraw\n",
        "import os\n",
        "import glob\n",
        "import numpy as np\n",
        "import xmltodict\n",
        "import os\n",
        "from sklearn.preprocessing import LabelBinarizer\n",
        "from sklearn.model_selection import train_test_split\n",
        "import cv2\n",
        "from skimage import data\n",
        "from skimage.color import rgb2gray\n",
        "import pandas as pd\n"
      ],
      "execution_count": 0,
      "outputs": []
    },
    {
      "cell_type": "code",
      "metadata": {
        "id": "jYDeJHnZ7HNb",
        "colab_type": "code",
        "outputId": "cb1a2c5c-fb92-4570-bdba-d80b953070c0",
        "colab": {
          "base_uri": "https://localhost:8080/",
          "height": 122
        }
      },
      "source": [
        "from google.colab import drive\n",
        "drive.mount('/content/gdrive')"
      ],
      "execution_count": 0,
      "outputs": [
        {
          "output_type": "stream",
          "text": [
            "Go to this URL in a browser: https://accounts.google.com/o/oauth2/auth?client_id=947318989803-6bn6qk8qdgf4n4g3pfee6491hc0brc4i.apps.googleusercontent.com&redirect_uri=urn%3aietf%3awg%3aoauth%3a2.0%3aoob&response_type=code&scope=email%20https%3a%2f%2fwww.googleapis.com%2fauth%2fdocs.test%20https%3a%2f%2fwww.googleapis.com%2fauth%2fdrive%20https%3a%2f%2fwww.googleapis.com%2fauth%2fdrive.photos.readonly%20https%3a%2f%2fwww.googleapis.com%2fauth%2fpeopleapi.readonly\n",
            "\n",
            "Enter your authorization code:\n",
            "··········\n",
            "Mounted at /content/gdrive\n"
          ],
          "name": "stdout"
        }
      ]
    },
    {
      "cell_type": "code",
      "metadata": {
        "id": "67calxZ37Iu4",
        "colab_type": "code",
        "outputId": "7c0deb4a-6060-498d-adaa-1de176bb5261",
        "colab": {
          "base_uri": "https://localhost:8080/",
          "height": 71
        }
      },
      "source": [
        "image_dim = 228\n",
        "images_dir = '/content/gdrive/My Drive/Colab Notebooks/training_images'\n",
        "output_dir = '/content/gdrive/My Drive/Colab Notebooks/processed_data'\n",
        "\n",
        "xml_filepaths = glob.glob( os.path.join( images_dir , '*.xml' ) )\n",
        "jpg_filepaths = glob.glob( os.path.join( images_dir , '*.jpg' ) )\n",
        "\n",
        "print(xml_filepaths)\n",
        "print(jpg_filepaths)\n"
      ],
      "execution_count": 0,
      "outputs": [
        {
          "output_type": "stream",
          "text": [
            "['/content/gdrive/My Drive/Colab Notebooks/training_images/frame10.xml', '/content/gdrive/My Drive/Colab Notebooks/training_images/frame0.xml', '/content/gdrive/My Drive/Colab Notebooks/training_images/frame100.xml', '/content/gdrive/My Drive/Colab Notebooks/training_images/frame1.xml', '/content/gdrive/My Drive/Colab Notebooks/training_images/frame102.xml', '/content/gdrive/My Drive/Colab Notebooks/training_images/frame101.xml', '/content/gdrive/My Drive/Colab Notebooks/training_images/frame104.xml', '/content/gdrive/My Drive/Colab Notebooks/training_images/frame105.xml', '/content/gdrive/My Drive/Colab Notebooks/training_images/frame103.xml', '/content/gdrive/My Drive/Colab Notebooks/training_images/frame106.xml', '/content/gdrive/My Drive/Colab Notebooks/training_images/frame109.xml', '/content/gdrive/My Drive/Colab Notebooks/training_images/frame11.xml', '/content/gdrive/My Drive/Colab Notebooks/training_images/frame108.xml', '/content/gdrive/My Drive/Colab Notebooks/training_images/frame107.xml', '/content/gdrive/My Drive/Colab Notebooks/training_images/frame111.xml', '/content/gdrive/My Drive/Colab Notebooks/training_images/frame114.xml', '/content/gdrive/My Drive/Colab Notebooks/training_images/frame112.xml', '/content/gdrive/My Drive/Colab Notebooks/training_images/frame113.xml', '/content/gdrive/My Drive/Colab Notebooks/training_images/frame110.xml', '/content/gdrive/My Drive/Colab Notebooks/training_images/frame116.xml', '/content/gdrive/My Drive/Colab Notebooks/training_images/frame117.xml', '/content/gdrive/My Drive/Colab Notebooks/training_images/frame118.xml', '/content/gdrive/My Drive/Colab Notebooks/training_images/frame119.xml', '/content/gdrive/My Drive/Colab Notebooks/training_images/frame115.xml', '/content/gdrive/My Drive/Colab Notebooks/training_images/frame12.xml', '/content/gdrive/My Drive/Colab Notebooks/training_images/frame121.xml', '/content/gdrive/My Drive/Colab Notebooks/training_images/frame120.xml', '/content/gdrive/My Drive/Colab Notebooks/training_images/frame122.xml', '/content/gdrive/My Drive/Colab Notebooks/training_images/frame123.xml', '/content/gdrive/My Drive/Colab Notebooks/training_images/frame125.xml', '/content/gdrive/My Drive/Colab Notebooks/training_images/frame124.xml', '/content/gdrive/My Drive/Colab Notebooks/training_images/frame126.xml', '/content/gdrive/My Drive/Colab Notebooks/training_images/frame127.xml', '/content/gdrive/My Drive/Colab Notebooks/training_images/frame128.xml', '/content/gdrive/My Drive/Colab Notebooks/training_images/frame130.xml', '/content/gdrive/My Drive/Colab Notebooks/training_images/frame129.xml', '/content/gdrive/My Drive/Colab Notebooks/training_images/frame13.xml', '/content/gdrive/My Drive/Colab Notebooks/training_images/frame132.xml', '/content/gdrive/My Drive/Colab Notebooks/training_images/frame131.xml', '/content/gdrive/My Drive/Colab Notebooks/training_images/frame133.xml', '/content/gdrive/My Drive/Colab Notebooks/training_images/frame134.xml', '/content/gdrive/My Drive/Colab Notebooks/training_images/frame137.xml', '/content/gdrive/My Drive/Colab Notebooks/training_images/frame136.xml', '/content/gdrive/My Drive/Colab Notebooks/training_images/frame135.xml', '/content/gdrive/My Drive/Colab Notebooks/training_images/frame138.xml', '/content/gdrive/My Drive/Colab Notebooks/training_images/frame139.xml', '/content/gdrive/My Drive/Colab Notebooks/training_images/frame14.xml', '/content/gdrive/My Drive/Colab Notebooks/training_images/frame141.xml', '/content/gdrive/My Drive/Colab Notebooks/training_images/frame140.xml', '/content/gdrive/My Drive/Colab Notebooks/training_images/frame142.xml', '/content/gdrive/My Drive/Colab Notebooks/training_images/frame143.xml', '/content/gdrive/My Drive/Colab Notebooks/training_images/frame146.xml', '/content/gdrive/My Drive/Colab Notebooks/training_images/frame144.xml', '/content/gdrive/My Drive/Colab Notebooks/training_images/frame145.xml', '/content/gdrive/My Drive/Colab Notebooks/training_images/frame148.xml', '/content/gdrive/My Drive/Colab Notebooks/training_images/frame147.xml', '/content/gdrive/My Drive/Colab Notebooks/training_images/frame15.xml', '/content/gdrive/My Drive/Colab Notebooks/training_images/frame150.xml', '/content/gdrive/My Drive/Colab Notebooks/training_images/frame149.xml', '/content/gdrive/My Drive/Colab Notebooks/training_images/frame151.xml', '/content/gdrive/My Drive/Colab Notebooks/training_images/frame152.xml', '/content/gdrive/My Drive/Colab Notebooks/training_images/frame154.xml', '/content/gdrive/My Drive/Colab Notebooks/training_images/frame155.xml', '/content/gdrive/My Drive/Colab Notebooks/training_images/frame153.xml', '/content/gdrive/My Drive/Colab Notebooks/training_images/frame156.xml', '/content/gdrive/My Drive/Colab Notebooks/training_images/frame157.xml', '/content/gdrive/My Drive/Colab Notebooks/training_images/frame16.xml', '/content/gdrive/My Drive/Colab Notebooks/training_images/frame158.xml', '/content/gdrive/My Drive/Colab Notebooks/training_images/frame159.xml', '/content/gdrive/My Drive/Colab Notebooks/training_images/frame160.xml', '/content/gdrive/My Drive/Colab Notebooks/training_images/frame161.xml', '/content/gdrive/My Drive/Colab Notebooks/training_images/frame163.xml', '/content/gdrive/My Drive/Colab Notebooks/training_images/frame162.xml', '/content/gdrive/My Drive/Colab Notebooks/training_images/frame164.xml', '/content/gdrive/My Drive/Colab Notebooks/training_images/frame165.xml', '/content/gdrive/My Drive/Colab Notebooks/training_images/frame167.xml', '/content/gdrive/My Drive/Colab Notebooks/training_images/frame168.xml', '/content/gdrive/My Drive/Colab Notebooks/training_images/frame169.xml', '/content/gdrive/My Drive/Colab Notebooks/training_images/frame166.xml', '/content/gdrive/My Drive/Colab Notebooks/training_images/frame17.xml', '/content/gdrive/My Drive/Colab Notebooks/training_images/frame170.xml', '/content/gdrive/My Drive/Colab Notebooks/training_images/frame173.xml', '/content/gdrive/My Drive/Colab Notebooks/training_images/frame171.xml', '/content/gdrive/My Drive/Colab Notebooks/training_images/frame172.xml', '/content/gdrive/My Drive/Colab Notebooks/training_images/frame174.xml', '/content/gdrive/My Drive/Colab Notebooks/training_images/frame175.xml', '/content/gdrive/My Drive/Colab Notebooks/training_images/frame177.xml', '/content/gdrive/My Drive/Colab Notebooks/training_images/frame176.xml', '/content/gdrive/My Drive/Colab Notebooks/training_images/frame178.xml', '/content/gdrive/My Drive/Colab Notebooks/training_images/frame18.xml', '/content/gdrive/My Drive/Colab Notebooks/training_images/frame179.xml', '/content/gdrive/My Drive/Colab Notebooks/training_images/frame182.xml', '/content/gdrive/My Drive/Colab Notebooks/training_images/frame180.xml', '/content/gdrive/My Drive/Colab Notebooks/training_images/frame181.xml', '/content/gdrive/My Drive/Colab Notebooks/training_images/frame183.xml', '/content/gdrive/My Drive/Colab Notebooks/training_images/frame184.xml', '/content/gdrive/My Drive/Colab Notebooks/training_images/frame185.xml', '/content/gdrive/My Drive/Colab Notebooks/training_images/frame187.xml', '/content/gdrive/My Drive/Colab Notebooks/training_images/frame189.xml', '/content/gdrive/My Drive/Colab Notebooks/training_images/frame188.xml', '/content/gdrive/My Drive/Colab Notebooks/training_images/frame19.xml', '/content/gdrive/My Drive/Colab Notebooks/training_images/frame190.xml', '/content/gdrive/My Drive/Colab Notebooks/training_images/frame191.xml', '/content/gdrive/My Drive/Colab Notebooks/training_images/frame192.xml', '/content/gdrive/My Drive/Colab Notebooks/training_images/frame193.xml', '/content/gdrive/My Drive/Colab Notebooks/training_images/frame194.xml', '/content/gdrive/My Drive/Colab Notebooks/training_images/frame195.xml', '/content/gdrive/My Drive/Colab Notebooks/training_images/frame196.xml', '/content/gdrive/My Drive/Colab Notebooks/training_images/frame198.xml', '/content/gdrive/My Drive/Colab Notebooks/training_images/frame197.xml', '/content/gdrive/My Drive/Colab Notebooks/training_images/frame199.xml', '/content/gdrive/My Drive/Colab Notebooks/training_images/frame2.xml', '/content/gdrive/My Drive/Colab Notebooks/training_images/frame20.xml', '/content/gdrive/My Drive/Colab Notebooks/training_images/frame200.xml', '/content/gdrive/My Drive/Colab Notebooks/training_images/frame201.xml', '/content/gdrive/My Drive/Colab Notebooks/training_images/frame203.xml', '/content/gdrive/My Drive/Colab Notebooks/training_images/frame202.xml', '/content/gdrive/My Drive/Colab Notebooks/training_images/frame204.xml', '/content/gdrive/My Drive/Colab Notebooks/training_images/frame206.xml', '/content/gdrive/My Drive/Colab Notebooks/training_images/frame205.xml', '/content/gdrive/My Drive/Colab Notebooks/training_images/frame208.xml', '/content/gdrive/My Drive/Colab Notebooks/training_images/frame209.xml', '/content/gdrive/My Drive/Colab Notebooks/training_images/frame207.xml', '/content/gdrive/My Drive/Colab Notebooks/training_images/frame210.xml', '/content/gdrive/My Drive/Colab Notebooks/training_images/frame21.xml', '/content/gdrive/My Drive/Colab Notebooks/training_images/frame211.xml', '/content/gdrive/My Drive/Colab Notebooks/training_images/frame213.xml', '/content/gdrive/My Drive/Colab Notebooks/training_images/frame212.xml', '/content/gdrive/My Drive/Colab Notebooks/training_images/frame214.xml', '/content/gdrive/My Drive/Colab Notebooks/training_images/frame215.xml', '/content/gdrive/My Drive/Colab Notebooks/training_images/frame217.xml', '/content/gdrive/My Drive/Colab Notebooks/training_images/frame218.xml', '/content/gdrive/My Drive/Colab Notebooks/training_images/frame216.xml', '/content/gdrive/My Drive/Colab Notebooks/training_images/frame219.xml', '/content/gdrive/My Drive/Colab Notebooks/training_images/frame22.xml', '/content/gdrive/My Drive/Colab Notebooks/training_images/frame222.xml', '/content/gdrive/My Drive/Colab Notebooks/training_images/frame220.xml', '/content/gdrive/My Drive/Colab Notebooks/training_images/frame221.xml', '/content/gdrive/My Drive/Colab Notebooks/training_images/frame224.xml', '/content/gdrive/My Drive/Colab Notebooks/training_images/frame223.xml', '/content/gdrive/My Drive/Colab Notebooks/training_images/frame227.xml', '/content/gdrive/My Drive/Colab Notebooks/training_images/frame226.xml', '/content/gdrive/My Drive/Colab Notebooks/training_images/frame225.xml', '/content/gdrive/My Drive/Colab Notebooks/training_images/frame229.xml', '/content/gdrive/My Drive/Colab Notebooks/training_images/frame228.xml', '/content/gdrive/My Drive/Colab Notebooks/training_images/frame230.xml', '/content/gdrive/My Drive/Colab Notebooks/training_images/frame23.xml', '/content/gdrive/My Drive/Colab Notebooks/training_images/frame231.xml', '/content/gdrive/My Drive/Colab Notebooks/training_images/frame232.xml', '/content/gdrive/My Drive/Colab Notebooks/training_images/frame233.xml', '/content/gdrive/My Drive/Colab Notebooks/training_images/frame236.xml', '/content/gdrive/My Drive/Colab Notebooks/training_images/frame235.xml', '/content/gdrive/My Drive/Colab Notebooks/training_images/frame234.xml', '/content/gdrive/My Drive/Colab Notebooks/training_images/frame237.xml', '/content/gdrive/My Drive/Colab Notebooks/training_images/frame238.xml', '/content/gdrive/My Drive/Colab Notebooks/training_images/frame240.xml', '/content/gdrive/My Drive/Colab Notebooks/training_images/frame239.xml', '/content/gdrive/My Drive/Colab Notebooks/training_images/frame24.xml', '/content/gdrive/My Drive/Colab Notebooks/training_images/frame241.xml', '/content/gdrive/My Drive/Colab Notebooks/training_images/frame242.xml', '/content/gdrive/My Drive/Colab Notebooks/training_images/frame245.xml', '/content/gdrive/My Drive/Colab Notebooks/training_images/frame243.xml', '/content/gdrive/My Drive/Colab Notebooks/training_images/frame244.xml', '/content/gdrive/My Drive/Colab Notebooks/training_images/frame247.xml', '/content/gdrive/My Drive/Colab Notebooks/training_images/frame246.xml', '/content/gdrive/My Drive/Colab Notebooks/training_images/frame25.xml', '/content/gdrive/My Drive/Colab Notebooks/training_images/frame249.xml', '/content/gdrive/My Drive/Colab Notebooks/training_images/frame248.xml', '/content/gdrive/My Drive/Colab Notebooks/training_images/frame250.xml', '/content/gdrive/My Drive/Colab Notebooks/training_images/frame251.xml', '/content/gdrive/My Drive/Colab Notebooks/training_images/frame254.xml', '/content/gdrive/My Drive/Colab Notebooks/training_images/frame252.xml', '/content/gdrive/My Drive/Colab Notebooks/training_images/frame253.xml', '/content/gdrive/My Drive/Colab Notebooks/training_images/frame255.xml', '/content/gdrive/My Drive/Colab Notebooks/training_images/frame256.xml', '/content/gdrive/My Drive/Colab Notebooks/training_images/frame257.xml', '/content/gdrive/My Drive/Colab Notebooks/training_images/frame258.xml', '/content/gdrive/My Drive/Colab Notebooks/training_images/frame259.xml', '/content/gdrive/My Drive/Colab Notebooks/training_images/frame260.xml', '/content/gdrive/My Drive/Colab Notebooks/training_images/frame26.xml', '/content/gdrive/My Drive/Colab Notebooks/training_images/frame262.xml', '/content/gdrive/My Drive/Colab Notebooks/training_images/frame261.xml', '/content/gdrive/My Drive/Colab Notebooks/training_images/frame263.xml', '/content/gdrive/My Drive/Colab Notebooks/training_images/frame265.xml', '/content/gdrive/My Drive/Colab Notebooks/training_images/frame264.xml', '/content/gdrive/My Drive/Colab Notebooks/training_images/frame267.xml', '/content/gdrive/My Drive/Colab Notebooks/training_images/frame266.xml', '/content/gdrive/My Drive/Colab Notebooks/training_images/frame268.xml', '/content/gdrive/My Drive/Colab Notebooks/training_images/frame27.xml', '/content/gdrive/My Drive/Colab Notebooks/training_images/frame269.xml', '/content/gdrive/My Drive/Colab Notebooks/training_images/frame270.xml', '/content/gdrive/My Drive/Colab Notebooks/training_images/frame271.xml', '/content/gdrive/My Drive/Colab Notebooks/training_images/frame272.xml', '/content/gdrive/My Drive/Colab Notebooks/training_images/frame274.xml', '/content/gdrive/My Drive/Colab Notebooks/training_images/frame273.xml', '/content/gdrive/My Drive/Colab Notebooks/training_images/frame277.xml', '/content/gdrive/My Drive/Colab Notebooks/training_images/frame275.xml', '/content/gdrive/My Drive/Colab Notebooks/training_images/frame276.xml', '/content/gdrive/My Drive/Colab Notebooks/training_images/frame279.xml', '/content/gdrive/My Drive/Colab Notebooks/training_images/frame278.xml', '/content/gdrive/My Drive/Colab Notebooks/training_images/frame28.xml', '/content/gdrive/My Drive/Colab Notebooks/training_images/frame281.xml', '/content/gdrive/My Drive/Colab Notebooks/training_images/frame280.xml', '/content/gdrive/My Drive/Colab Notebooks/training_images/frame283.xml', '/content/gdrive/My Drive/Colab Notebooks/training_images/frame282.xml', '/content/gdrive/My Drive/Colab Notebooks/training_images/frame284.xml', '/content/gdrive/My Drive/Colab Notebooks/training_images/frame285.xml', '/content/gdrive/My Drive/Colab Notebooks/training_images/frame286.xml', '/content/gdrive/My Drive/Colab Notebooks/training_images/frame287.xml', '/content/gdrive/My Drive/Colab Notebooks/training_images/frame288.xml', '/content/gdrive/My Drive/Colab Notebooks/training_images/frame29.xml', '/content/gdrive/My Drive/Colab Notebooks/training_images/frame290.xml', '/content/gdrive/My Drive/Colab Notebooks/training_images/frame289.xml', '/content/gdrive/My Drive/Colab Notebooks/training_images/frame292.xml', '/content/gdrive/My Drive/Colab Notebooks/training_images/frame291.xml', '/content/gdrive/My Drive/Colab Notebooks/training_images/frame295.xml', '/content/gdrive/My Drive/Colab Notebooks/training_images/frame293.xml', '/content/gdrive/My Drive/Colab Notebooks/training_images/frame294.xml', '/content/gdrive/My Drive/Colab Notebooks/training_images/frame296.xml', '/content/gdrive/My Drive/Colab Notebooks/training_images/frame297.xml', '/content/gdrive/My Drive/Colab Notebooks/training_images/frame3.xml', '/content/gdrive/My Drive/Colab Notebooks/training_images/frame298.xml', '/content/gdrive/My Drive/Colab Notebooks/training_images/frame299.xml', '/content/gdrive/My Drive/Colab Notebooks/training_images/frame300.xml', '/content/gdrive/My Drive/Colab Notebooks/training_images/frame30.xml', '/content/gdrive/My Drive/Colab Notebooks/training_images/frame302.xml', '/content/gdrive/My Drive/Colab Notebooks/training_images/frame303.xml', '/content/gdrive/My Drive/Colab Notebooks/training_images/frame301.xml', '/content/gdrive/My Drive/Colab Notebooks/training_images/frame304.xml', '/content/gdrive/My Drive/Colab Notebooks/training_images/frame305.xml', '/content/gdrive/My Drive/Colab Notebooks/training_images/frame307.xml', '/content/gdrive/My Drive/Colab Notebooks/training_images/frame308.xml', '/content/gdrive/My Drive/Colab Notebooks/training_images/frame306.xml', '/content/gdrive/My Drive/Colab Notebooks/training_images/frame309.xml', '/content/gdrive/My Drive/Colab Notebooks/training_images/frame31.xml', '/content/gdrive/My Drive/Colab Notebooks/training_images/frame312.xml', '/content/gdrive/My Drive/Colab Notebooks/training_images/frame311.xml', '/content/gdrive/My Drive/Colab Notebooks/training_images/frame310.xml', '/content/gdrive/My Drive/Colab Notebooks/training_images/frame314.xml', '/content/gdrive/My Drive/Colab Notebooks/training_images/frame313.xml', '/content/gdrive/My Drive/Colab Notebooks/training_images/frame317.xml', '/content/gdrive/My Drive/Colab Notebooks/training_images/frame315.xml', '/content/gdrive/My Drive/Colab Notebooks/training_images/frame316.xml', '/content/gdrive/My Drive/Colab Notebooks/training_images/frame318.xml', '/content/gdrive/My Drive/Colab Notebooks/training_images/frame319.xml', '/content/gdrive/My Drive/Colab Notebooks/training_images/frame32.xml', '/content/gdrive/My Drive/Colab Notebooks/training_images/frame320.xml', '/content/gdrive/My Drive/Colab Notebooks/training_images/frame321.xml', '/content/gdrive/My Drive/Colab Notebooks/training_images/frame326.xml', '/content/gdrive/My Drive/Colab Notebooks/training_images/frame322.xml', '/content/gdrive/My Drive/Colab Notebooks/training_images/frame323.xml', '/content/gdrive/My Drive/Colab Notebooks/training_images/frame324.xml', '/content/gdrive/My Drive/Colab Notebooks/training_images/frame325.xml', '/content/gdrive/My Drive/Colab Notebooks/training_images/frame327.xml', '/content/gdrive/My Drive/Colab Notebooks/training_images/frame328.xml', '/content/gdrive/My Drive/Colab Notebooks/training_images/frame329.xml', '/content/gdrive/My Drive/Colab Notebooks/training_images/frame330.xml', '/content/gdrive/My Drive/Colab Notebooks/training_images/frame33.xml', '/content/gdrive/My Drive/Colab Notebooks/training_images/frame331.xml', '/content/gdrive/My Drive/Colab Notebooks/training_images/frame332.xml', '/content/gdrive/My Drive/Colab Notebooks/training_images/frame333.xml', '/content/gdrive/My Drive/Colab Notebooks/training_images/frame36.xml', '/content/gdrive/My Drive/Colab Notebooks/training_images/frame34.xml', '/content/gdrive/My Drive/Colab Notebooks/training_images/frame35.xml', '/content/gdrive/My Drive/Colab Notebooks/training_images/frame37.xml', '/content/gdrive/My Drive/Colab Notebooks/training_images/frame38.xml', '/content/gdrive/My Drive/Colab Notebooks/training_images/frame39.xml', '/content/gdrive/My Drive/Colab Notebooks/training_images/frame40.xml', '/content/gdrive/My Drive/Colab Notebooks/training_images/frame4.xml', '/content/gdrive/My Drive/Colab Notebooks/training_images/frame41.xml', '/content/gdrive/My Drive/Colab Notebooks/training_images/frame42.xml', '/content/gdrive/My Drive/Colab Notebooks/training_images/frame43.xml', '/content/gdrive/My Drive/Colab Notebooks/training_images/frame46.xml', '/content/gdrive/My Drive/Colab Notebooks/training_images/frame45.xml', '/content/gdrive/My Drive/Colab Notebooks/training_images/frame44.xml', '/content/gdrive/My Drive/Colab Notebooks/training_images/frame47.xml', '/content/gdrive/My Drive/Colab Notebooks/training_images/frame48.xml', '/content/gdrive/My Drive/Colab Notebooks/training_images/frame49.xml', '/content/gdrive/My Drive/Colab Notebooks/training_images/frame5.xml', '/content/gdrive/My Drive/Colab Notebooks/training_images/frame52.xml', '/content/gdrive/My Drive/Colab Notebooks/training_images/frame50.xml', '/content/gdrive/My Drive/Colab Notebooks/training_images/frame51.xml', '/content/gdrive/My Drive/Colab Notebooks/training_images/frame53.xml', '/content/gdrive/My Drive/Colab Notebooks/training_images/frame54.xml', '/content/gdrive/My Drive/Colab Notebooks/training_images/frame55.xml', '/content/gdrive/My Drive/Colab Notebooks/training_images/frame58.xml', '/content/gdrive/My Drive/Colab Notebooks/training_images/frame56.xml', '/content/gdrive/My Drive/Colab Notebooks/training_images/frame57.xml', '/content/gdrive/My Drive/Colab Notebooks/training_images/frame59.xml', '/content/gdrive/My Drive/Colab Notebooks/training_images/frame6.xml', '/content/gdrive/My Drive/Colab Notebooks/training_images/frame60.xml', '/content/gdrive/My Drive/Colab Notebooks/training_images/frame63.xml', '/content/gdrive/My Drive/Colab Notebooks/training_images/frame62.xml', '/content/gdrive/My Drive/Colab Notebooks/training_images/frame61.xml', '/content/gdrive/My Drive/Colab Notebooks/training_images/frame64.xml', '/content/gdrive/My Drive/Colab Notebooks/training_images/frame65.xml', '/content/gdrive/My Drive/Colab Notebooks/training_images/frame66.xml', '/content/gdrive/My Drive/Colab Notebooks/training_images/frame69.xml', '/content/gdrive/My Drive/Colab Notebooks/training_images/frame67.xml', '/content/gdrive/My Drive/Colab Notebooks/training_images/frame68.xml', '/content/gdrive/My Drive/Colab Notebooks/training_images/frame7.xml', '/content/gdrive/My Drive/Colab Notebooks/training_images/frame74.xml', '/content/gdrive/My Drive/Colab Notebooks/training_images/frame70.xml', '/content/gdrive/My Drive/Colab Notebooks/training_images/frame71.xml', '/content/gdrive/My Drive/Colab Notebooks/training_images/frame72.xml', '/content/gdrive/My Drive/Colab Notebooks/training_images/frame73.xml', '/content/gdrive/My Drive/Colab Notebooks/training_images/frame75.xml', '/content/gdrive/My Drive/Colab Notebooks/training_images/frame8.xml', '/content/gdrive/My Drive/Colab Notebooks/training_images/frame77.xml', '/content/gdrive/My Drive/Colab Notebooks/training_images/frame76.xml', '/content/gdrive/My Drive/Colab Notebooks/training_images/frame79.xml', '/content/gdrive/My Drive/Colab Notebooks/training_images/frame78.xml', '/content/gdrive/My Drive/Colab Notebooks/training_images/frame80.xml', '/content/gdrive/My Drive/Colab Notebooks/training_images/frame85.xml', '/content/gdrive/My Drive/Colab Notebooks/training_images/frame81.xml', '/content/gdrive/My Drive/Colab Notebooks/training_images/frame82.xml', '/content/gdrive/My Drive/Colab Notebooks/training_images/frame83.xml', '/content/gdrive/My Drive/Colab Notebooks/training_images/frame84.xml', '/content/gdrive/My Drive/Colab Notebooks/training_images/frame86.xml', '/content/gdrive/My Drive/Colab Notebooks/training_images/frame90.xml', '/content/gdrive/My Drive/Colab Notebooks/training_images/frame87.xml', '/content/gdrive/My Drive/Colab Notebooks/training_images/frame88.xml', '/content/gdrive/My Drive/Colab Notebooks/training_images/frame89.xml', '/content/gdrive/My Drive/Colab Notebooks/training_images/frame9.xml', '/content/gdrive/My Drive/Colab Notebooks/training_images/frame91.xml', '/content/gdrive/My Drive/Colab Notebooks/training_images/frame96.xml', '/content/gdrive/My Drive/Colab Notebooks/training_images/frame93.xml', '/content/gdrive/My Drive/Colab Notebooks/training_images/frame92.xml', '/content/gdrive/My Drive/Colab Notebooks/training_images/frame95.xml', '/content/gdrive/My Drive/Colab Notebooks/training_images/frame94.xml', '/content/gdrive/My Drive/Colab Notebooks/training_images/frame97.xml', '/content/gdrive/My Drive/Colab Notebooks/training_images/frame99.xml', '/content/gdrive/My Drive/Colab Notebooks/training_images/frame98.xml', '/content/gdrive/My Drive/Colab Notebooks/training_images/frame186.xml']\n",
            "['/content/gdrive/My Drive/Colab Notebooks/training_images/frame0.jpg', '/content/gdrive/My Drive/Colab Notebooks/training_images/frame1.jpg', '/content/gdrive/My Drive/Colab Notebooks/training_images/frame10.jpg', '/content/gdrive/My Drive/Colab Notebooks/training_images/frame100.jpg', '/content/gdrive/My Drive/Colab Notebooks/training_images/frame101.jpg', '/content/gdrive/My Drive/Colab Notebooks/training_images/frame102.jpg', '/content/gdrive/My Drive/Colab Notebooks/training_images/frame103.jpg', '/content/gdrive/My Drive/Colab Notebooks/training_images/frame104.jpg', '/content/gdrive/My Drive/Colab Notebooks/training_images/frame105.jpg', '/content/gdrive/My Drive/Colab Notebooks/training_images/frame108.jpg', '/content/gdrive/My Drive/Colab Notebooks/training_images/frame107.jpg', '/content/gdrive/My Drive/Colab Notebooks/training_images/frame106.jpg', '/content/gdrive/My Drive/Colab Notebooks/training_images/frame11.jpg', '/content/gdrive/My Drive/Colab Notebooks/training_images/frame109.jpg', '/content/gdrive/My Drive/Colab Notebooks/training_images/frame110.jpg', '/content/gdrive/My Drive/Colab Notebooks/training_images/frame112.jpg', '/content/gdrive/My Drive/Colab Notebooks/training_images/frame114.jpg', '/content/gdrive/My Drive/Colab Notebooks/training_images/frame111.jpg', '/content/gdrive/My Drive/Colab Notebooks/training_images/frame113.jpg', '/content/gdrive/My Drive/Colab Notebooks/training_images/frame117.jpg', '/content/gdrive/My Drive/Colab Notebooks/training_images/frame119.jpg', '/content/gdrive/My Drive/Colab Notebooks/training_images/frame118.jpg', '/content/gdrive/My Drive/Colab Notebooks/training_images/frame115.jpg', '/content/gdrive/My Drive/Colab Notebooks/training_images/frame116.jpg', '/content/gdrive/My Drive/Colab Notebooks/training_images/frame120.jpg', '/content/gdrive/My Drive/Colab Notebooks/training_images/frame121.jpg', '/content/gdrive/My Drive/Colab Notebooks/training_images/frame12.jpg', '/content/gdrive/My Drive/Colab Notebooks/training_images/frame123.jpg', '/content/gdrive/My Drive/Colab Notebooks/training_images/frame122.jpg', '/content/gdrive/My Drive/Colab Notebooks/training_images/frame124.jpg', '/content/gdrive/My Drive/Colab Notebooks/training_images/frame125.jpg', '/content/gdrive/My Drive/Colab Notebooks/training_images/frame128.jpg', '/content/gdrive/My Drive/Colab Notebooks/training_images/frame126.jpg', '/content/gdrive/My Drive/Colab Notebooks/training_images/frame127.jpg', '/content/gdrive/My Drive/Colab Notebooks/training_images/frame129.jpg', '/content/gdrive/My Drive/Colab Notebooks/training_images/frame130.jpg', '/content/gdrive/My Drive/Colab Notebooks/training_images/frame131.jpg', '/content/gdrive/My Drive/Colab Notebooks/training_images/frame13.jpg', '/content/gdrive/My Drive/Colab Notebooks/training_images/frame132.jpg', '/content/gdrive/My Drive/Colab Notebooks/training_images/frame133.jpg', '/content/gdrive/My Drive/Colab Notebooks/training_images/frame134.jpg', '/content/gdrive/My Drive/Colab Notebooks/training_images/frame135.jpg', '/content/gdrive/My Drive/Colab Notebooks/training_images/frame136.jpg', '/content/gdrive/My Drive/Colab Notebooks/training_images/frame137.jpg', '/content/gdrive/My Drive/Colab Notebooks/training_images/frame138.jpg', '/content/gdrive/My Drive/Colab Notebooks/training_images/frame139.jpg', '/content/gdrive/My Drive/Colab Notebooks/training_images/frame140.jpg', '/content/gdrive/My Drive/Colab Notebooks/training_images/frame14.jpg', '/content/gdrive/My Drive/Colab Notebooks/training_images/frame141.jpg', '/content/gdrive/My Drive/Colab Notebooks/training_images/frame142.jpg', '/content/gdrive/My Drive/Colab Notebooks/training_images/frame143.jpg', '/content/gdrive/My Drive/Colab Notebooks/training_images/frame144.jpg', '/content/gdrive/My Drive/Colab Notebooks/training_images/frame146.jpg', '/content/gdrive/My Drive/Colab Notebooks/training_images/frame145.jpg', '/content/gdrive/My Drive/Colab Notebooks/training_images/frame147.jpg', '/content/gdrive/My Drive/Colab Notebooks/training_images/frame148.jpg', '/content/gdrive/My Drive/Colab Notebooks/training_images/frame150.jpg', '/content/gdrive/My Drive/Colab Notebooks/training_images/frame149.jpg', '/content/gdrive/My Drive/Colab Notebooks/training_images/frame15.jpg', '/content/gdrive/My Drive/Colab Notebooks/training_images/frame151.jpg', '/content/gdrive/My Drive/Colab Notebooks/training_images/frame152.jpg', '/content/gdrive/My Drive/Colab Notebooks/training_images/frame154.jpg', '/content/gdrive/My Drive/Colab Notebooks/training_images/frame155.jpg', '/content/gdrive/My Drive/Colab Notebooks/training_images/frame153.jpg', '/content/gdrive/My Drive/Colab Notebooks/training_images/frame156.jpg', '/content/gdrive/My Drive/Colab Notebooks/training_images/frame157.jpg', '/content/gdrive/My Drive/Colab Notebooks/training_images/frame158.jpg', '/content/gdrive/My Drive/Colab Notebooks/training_images/frame16.jpg', '/content/gdrive/My Drive/Colab Notebooks/training_images/frame159.jpg', '/content/gdrive/My Drive/Colab Notebooks/training_images/frame160.jpg', '/content/gdrive/My Drive/Colab Notebooks/training_images/frame161.jpg', '/content/gdrive/My Drive/Colab Notebooks/training_images/frame162.jpg', '/content/gdrive/My Drive/Colab Notebooks/training_images/frame163.jpg', '/content/gdrive/My Drive/Colab Notebooks/training_images/frame164.jpg', '/content/gdrive/My Drive/Colab Notebooks/training_images/frame165.jpg', '/content/gdrive/My Drive/Colab Notebooks/training_images/frame166.jpg', '/content/gdrive/My Drive/Colab Notebooks/training_images/frame168.jpg', '/content/gdrive/My Drive/Colab Notebooks/training_images/frame169.jpg', '/content/gdrive/My Drive/Colab Notebooks/training_images/frame167.jpg', '/content/gdrive/My Drive/Colab Notebooks/training_images/frame17.jpg', '/content/gdrive/My Drive/Colab Notebooks/training_images/frame170.jpg', '/content/gdrive/My Drive/Colab Notebooks/training_images/frame172.jpg', '/content/gdrive/My Drive/Colab Notebooks/training_images/frame171.jpg', '/content/gdrive/My Drive/Colab Notebooks/training_images/frame173.jpg', '/content/gdrive/My Drive/Colab Notebooks/training_images/frame174.jpg', '/content/gdrive/My Drive/Colab Notebooks/training_images/frame175.jpg', '/content/gdrive/My Drive/Colab Notebooks/training_images/frame176.jpg', '/content/gdrive/My Drive/Colab Notebooks/training_images/frame178.jpg', '/content/gdrive/My Drive/Colab Notebooks/training_images/frame177.jpg', '/content/gdrive/My Drive/Colab Notebooks/training_images/frame179.jpg', '/content/gdrive/My Drive/Colab Notebooks/training_images/frame18.jpg', '/content/gdrive/My Drive/Colab Notebooks/training_images/frame181.jpg', '/content/gdrive/My Drive/Colab Notebooks/training_images/frame182.jpg', '/content/gdrive/My Drive/Colab Notebooks/training_images/frame180.jpg', '/content/gdrive/My Drive/Colab Notebooks/training_images/frame183.jpg', '/content/gdrive/My Drive/Colab Notebooks/training_images/frame184.jpg', '/content/gdrive/My Drive/Colab Notebooks/training_images/frame186.jpg', '/content/gdrive/My Drive/Colab Notebooks/training_images/frame187.jpg', '/content/gdrive/My Drive/Colab Notebooks/training_images/frame185.jpg', '/content/gdrive/My Drive/Colab Notebooks/training_images/frame188.jpg', '/content/gdrive/My Drive/Colab Notebooks/training_images/frame189.jpg', '/content/gdrive/My Drive/Colab Notebooks/training_images/frame190.jpg', '/content/gdrive/My Drive/Colab Notebooks/training_images/frame19.jpg', '/content/gdrive/My Drive/Colab Notebooks/training_images/frame191.jpg', '/content/gdrive/My Drive/Colab Notebooks/training_images/frame192.jpg', '/content/gdrive/My Drive/Colab Notebooks/training_images/frame193.jpg', '/content/gdrive/My Drive/Colab Notebooks/training_images/frame194.jpg', '/content/gdrive/My Drive/Colab Notebooks/training_images/frame196.jpg', '/content/gdrive/My Drive/Colab Notebooks/training_images/frame195.jpg', '/content/gdrive/My Drive/Colab Notebooks/training_images/frame197.jpg', '/content/gdrive/My Drive/Colab Notebooks/training_images/frame198.jpg', '/content/gdrive/My Drive/Colab Notebooks/training_images/frame20.jpg', '/content/gdrive/My Drive/Colab Notebooks/training_images/frame2.jpg', '/content/gdrive/My Drive/Colab Notebooks/training_images/frame199.jpg', '/content/gdrive/My Drive/Colab Notebooks/training_images/frame200.jpg', '/content/gdrive/My Drive/Colab Notebooks/training_images/frame201.jpg', '/content/gdrive/My Drive/Colab Notebooks/training_images/frame202.jpg', '/content/gdrive/My Drive/Colab Notebooks/training_images/frame204.jpg', '/content/gdrive/My Drive/Colab Notebooks/training_images/frame203.jpg', '/content/gdrive/My Drive/Colab Notebooks/training_images/frame205.jpg', '/content/gdrive/My Drive/Colab Notebooks/training_images/frame206.jpg', '/content/gdrive/My Drive/Colab Notebooks/training_images/frame209.jpg', '/content/gdrive/My Drive/Colab Notebooks/training_images/frame208.jpg', '/content/gdrive/My Drive/Colab Notebooks/training_images/frame207.jpg', '/content/gdrive/My Drive/Colab Notebooks/training_images/frame21.jpg', '/content/gdrive/My Drive/Colab Notebooks/training_images/frame210.jpg', '/content/gdrive/My Drive/Colab Notebooks/training_images/frame213.jpg', '/content/gdrive/My Drive/Colab Notebooks/training_images/frame212.jpg', '/content/gdrive/My Drive/Colab Notebooks/training_images/frame211.jpg', '/content/gdrive/My Drive/Colab Notebooks/training_images/frame214.jpg', '/content/gdrive/My Drive/Colab Notebooks/training_images/frame215.jpg', '/content/gdrive/My Drive/Colab Notebooks/training_images/frame216.jpg', '/content/gdrive/My Drive/Colab Notebooks/training_images/frame217.jpg', '/content/gdrive/My Drive/Colab Notebooks/training_images/frame218.jpg', '/content/gdrive/My Drive/Colab Notebooks/training_images/frame219.jpg', '/content/gdrive/My Drive/Colab Notebooks/training_images/frame22.jpg', '/content/gdrive/My Drive/Colab Notebooks/training_images/frame221.jpg', '/content/gdrive/My Drive/Colab Notebooks/training_images/frame220.jpg', '/content/gdrive/My Drive/Colab Notebooks/training_images/frame222.jpg', '/content/gdrive/My Drive/Colab Notebooks/training_images/frame223.jpg', '/content/gdrive/My Drive/Colab Notebooks/training_images/frame224.jpg', '/content/gdrive/My Drive/Colab Notebooks/training_images/frame227.jpg', '/content/gdrive/My Drive/Colab Notebooks/training_images/frame226.jpg', '/content/gdrive/My Drive/Colab Notebooks/training_images/frame225.jpg', '/content/gdrive/My Drive/Colab Notebooks/training_images/frame228.jpg', '/content/gdrive/My Drive/Colab Notebooks/training_images/frame229.jpg', '/content/gdrive/My Drive/Colab Notebooks/training_images/frame23.jpg', '/content/gdrive/My Drive/Colab Notebooks/training_images/frame231.jpg', '/content/gdrive/My Drive/Colab Notebooks/training_images/frame230.jpg', '/content/gdrive/My Drive/Colab Notebooks/training_images/frame232.jpg', '/content/gdrive/My Drive/Colab Notebooks/training_images/frame233.jpg', '/content/gdrive/My Drive/Colab Notebooks/training_images/frame234.jpg', '/content/gdrive/My Drive/Colab Notebooks/training_images/frame236.jpg', '/content/gdrive/My Drive/Colab Notebooks/training_images/frame235.jpg', '/content/gdrive/My Drive/Colab Notebooks/training_images/frame237.jpg', '/content/gdrive/My Drive/Colab Notebooks/training_images/frame238.jpg', '/content/gdrive/My Drive/Colab Notebooks/training_images/frame24.jpg', '/content/gdrive/My Drive/Colab Notebooks/training_images/frame239.jpg', '/content/gdrive/My Drive/Colab Notebooks/training_images/frame240.jpg', '/content/gdrive/My Drive/Colab Notebooks/training_images/frame241.jpg', '/content/gdrive/My Drive/Colab Notebooks/training_images/frame242.jpg', '/content/gdrive/My Drive/Colab Notebooks/training_images/frame243.jpg', '/content/gdrive/My Drive/Colab Notebooks/training_images/frame244.jpg', '/content/gdrive/My Drive/Colab Notebooks/training_images/frame245.jpg', '/content/gdrive/My Drive/Colab Notebooks/training_images/frame246.jpg', '/content/gdrive/My Drive/Colab Notebooks/training_images/frame247.jpg', '/content/gdrive/My Drive/Colab Notebooks/training_images/frame249.jpg', '/content/gdrive/My Drive/Colab Notebooks/training_images/frame25.jpg', '/content/gdrive/My Drive/Colab Notebooks/training_images/frame248.jpg', '/content/gdrive/My Drive/Colab Notebooks/training_images/frame250.jpg', '/content/gdrive/My Drive/Colab Notebooks/training_images/frame251.jpg', '/content/gdrive/My Drive/Colab Notebooks/training_images/frame252.jpg', '/content/gdrive/My Drive/Colab Notebooks/training_images/frame253.jpg', '/content/gdrive/My Drive/Colab Notebooks/training_images/frame254.jpg', '/content/gdrive/My Drive/Colab Notebooks/training_images/frame255.jpg', '/content/gdrive/My Drive/Colab Notebooks/training_images/frame256.jpg', '/content/gdrive/My Drive/Colab Notebooks/training_images/frame259.jpg', '/content/gdrive/My Drive/Colab Notebooks/training_images/frame258.jpg', '/content/gdrive/My Drive/Colab Notebooks/training_images/frame257.jpg', '/content/gdrive/My Drive/Colab Notebooks/training_images/frame26.jpg', '/content/gdrive/My Drive/Colab Notebooks/training_images/frame260.jpg', '/content/gdrive/My Drive/Colab Notebooks/training_images/frame261.jpg', '/content/gdrive/My Drive/Colab Notebooks/training_images/frame263.jpg', '/content/gdrive/My Drive/Colab Notebooks/training_images/frame262.jpg', '/content/gdrive/My Drive/Colab Notebooks/training_images/frame264.jpg', '/content/gdrive/My Drive/Colab Notebooks/training_images/frame265.jpg', '/content/gdrive/My Drive/Colab Notebooks/training_images/frame266.jpg', '/content/gdrive/My Drive/Colab Notebooks/training_images/frame267.jpg', '/content/gdrive/My Drive/Colab Notebooks/training_images/frame268.jpg', '/content/gdrive/My Drive/Colab Notebooks/training_images/frame269.jpg', '/content/gdrive/My Drive/Colab Notebooks/training_images/frame27.jpg', '/content/gdrive/My Drive/Colab Notebooks/training_images/frame270.jpg', '/content/gdrive/My Drive/Colab Notebooks/training_images/frame272.jpg', '/content/gdrive/My Drive/Colab Notebooks/training_images/frame271.jpg', '/content/gdrive/My Drive/Colab Notebooks/training_images/frame273.jpg', '/content/gdrive/My Drive/Colab Notebooks/training_images/frame274.jpg', '/content/gdrive/My Drive/Colab Notebooks/training_images/frame276.jpg', '/content/gdrive/My Drive/Colab Notebooks/training_images/frame275.jpg', '/content/gdrive/My Drive/Colab Notebooks/training_images/frame277.jpg', '/content/gdrive/My Drive/Colab Notebooks/training_images/frame278.jpg', '/content/gdrive/My Drive/Colab Notebooks/training_images/frame279.jpg', '/content/gdrive/My Drive/Colab Notebooks/training_images/frame280.jpg', '/content/gdrive/My Drive/Colab Notebooks/training_images/frame281.jpg', '/content/gdrive/My Drive/Colab Notebooks/training_images/frame28.jpg', '/content/gdrive/My Drive/Colab Notebooks/training_images/frame282.jpg', '/content/gdrive/My Drive/Colab Notebooks/training_images/frame283.jpg', '/content/gdrive/My Drive/Colab Notebooks/training_images/frame284.jpg', '/content/gdrive/My Drive/Colab Notebooks/training_images/frame286.jpg', '/content/gdrive/My Drive/Colab Notebooks/training_images/frame285.jpg', '/content/gdrive/My Drive/Colab Notebooks/training_images/frame287.jpg', '/content/gdrive/My Drive/Colab Notebooks/training_images/frame288.jpg', '/content/gdrive/My Drive/Colab Notebooks/training_images/frame289.jpg', '/content/gdrive/My Drive/Colab Notebooks/training_images/frame29.jpg', '/content/gdrive/My Drive/Colab Notebooks/training_images/frame290.jpg', '/content/gdrive/My Drive/Colab Notebooks/training_images/frame291.jpg', '/content/gdrive/My Drive/Colab Notebooks/training_images/frame292.jpg', '/content/gdrive/My Drive/Colab Notebooks/training_images/frame293.jpg', '/content/gdrive/My Drive/Colab Notebooks/training_images/frame295.jpg', '/content/gdrive/My Drive/Colab Notebooks/training_images/frame294.jpg', '/content/gdrive/My Drive/Colab Notebooks/training_images/frame296.jpg', '/content/gdrive/My Drive/Colab Notebooks/training_images/frame297.jpg', '/content/gdrive/My Drive/Colab Notebooks/training_images/frame298.jpg', '/content/gdrive/My Drive/Colab Notebooks/training_images/frame299.jpg', '/content/gdrive/My Drive/Colab Notebooks/training_images/frame3.jpg', '/content/gdrive/My Drive/Colab Notebooks/training_images/frame30.jpg', '/content/gdrive/My Drive/Colab Notebooks/training_images/frame300.jpg', '/content/gdrive/My Drive/Colab Notebooks/training_images/frame303.jpg', '/content/gdrive/My Drive/Colab Notebooks/training_images/frame301.jpg', '/content/gdrive/My Drive/Colab Notebooks/training_images/frame302.jpg', '/content/gdrive/My Drive/Colab Notebooks/training_images/frame304.jpg', '/content/gdrive/My Drive/Colab Notebooks/training_images/frame305.jpg', '/content/gdrive/My Drive/Colab Notebooks/training_images/frame307.jpg', '/content/gdrive/My Drive/Colab Notebooks/training_images/frame308.jpg', '/content/gdrive/My Drive/Colab Notebooks/training_images/frame306.jpg', '/content/gdrive/My Drive/Colab Notebooks/training_images/frame309.jpg', '/content/gdrive/My Drive/Colab Notebooks/training_images/frame31.jpg', '/content/gdrive/My Drive/Colab Notebooks/training_images/frame311.jpg', '/content/gdrive/My Drive/Colab Notebooks/training_images/frame310.jpg', '/content/gdrive/My Drive/Colab Notebooks/training_images/frame312.jpg', '/content/gdrive/My Drive/Colab Notebooks/training_images/frame313.jpg', '/content/gdrive/My Drive/Colab Notebooks/training_images/frame314.jpg', '/content/gdrive/My Drive/Colab Notebooks/training_images/frame315.jpg', '/content/gdrive/My Drive/Colab Notebooks/training_images/frame317.jpg', '/content/gdrive/My Drive/Colab Notebooks/training_images/frame316.jpg', '/content/gdrive/My Drive/Colab Notebooks/training_images/frame318.jpg', '/content/gdrive/My Drive/Colab Notebooks/training_images/frame319.jpg', '/content/gdrive/My Drive/Colab Notebooks/training_images/frame32.jpg', '/content/gdrive/My Drive/Colab Notebooks/training_images/frame320.jpg', '/content/gdrive/My Drive/Colab Notebooks/training_images/frame321.jpg', '/content/gdrive/My Drive/Colab Notebooks/training_images/frame322.jpg', '/content/gdrive/My Drive/Colab Notebooks/training_images/frame323.jpg', '/content/gdrive/My Drive/Colab Notebooks/training_images/frame324.jpg', '/content/gdrive/My Drive/Colab Notebooks/training_images/frame325.jpg', '/content/gdrive/My Drive/Colab Notebooks/training_images/frame326.jpg', '/content/gdrive/My Drive/Colab Notebooks/training_images/frame327.jpg', '/content/gdrive/My Drive/Colab Notebooks/training_images/frame328.jpg', '/content/gdrive/My Drive/Colab Notebooks/training_images/frame329.jpg', '/content/gdrive/My Drive/Colab Notebooks/training_images/frame330.jpg', '/content/gdrive/My Drive/Colab Notebooks/training_images/frame331.jpg', '/content/gdrive/My Drive/Colab Notebooks/training_images/frame33.jpg', '/content/gdrive/My Drive/Colab Notebooks/training_images/frame332.jpg', '/content/gdrive/My Drive/Colab Notebooks/training_images/frame333.jpg', '/content/gdrive/My Drive/Colab Notebooks/training_images/frame34.jpg', '/content/gdrive/My Drive/Colab Notebooks/training_images/frame36.jpg', '/content/gdrive/My Drive/Colab Notebooks/training_images/frame35.jpg', '/content/gdrive/My Drive/Colab Notebooks/training_images/frame37.jpg', '/content/gdrive/My Drive/Colab Notebooks/training_images/frame41.jpg', '/content/gdrive/My Drive/Colab Notebooks/training_images/frame38.jpg', '/content/gdrive/My Drive/Colab Notebooks/training_images/frame39.jpg', '/content/gdrive/My Drive/Colab Notebooks/training_images/frame4.jpg', '/content/gdrive/My Drive/Colab Notebooks/training_images/frame40.jpg', '/content/gdrive/My Drive/Colab Notebooks/training_images/frame42.jpg', '/content/gdrive/My Drive/Colab Notebooks/training_images/frame47.jpg', '/content/gdrive/My Drive/Colab Notebooks/training_images/frame43.jpg', '/content/gdrive/My Drive/Colab Notebooks/training_images/frame45.jpg', '/content/gdrive/My Drive/Colab Notebooks/training_images/frame44.jpg', '/content/gdrive/My Drive/Colab Notebooks/training_images/frame46.jpg', '/content/gdrive/My Drive/Colab Notebooks/training_images/frame48.jpg', '/content/gdrive/My Drive/Colab Notebooks/training_images/frame49.jpg', '/content/gdrive/My Drive/Colab Notebooks/training_images/frame52.jpg', '/content/gdrive/My Drive/Colab Notebooks/training_images/frame5.jpg', '/content/gdrive/My Drive/Colab Notebooks/training_images/frame50.jpg', '/content/gdrive/My Drive/Colab Notebooks/training_images/frame51.jpg', '/content/gdrive/My Drive/Colab Notebooks/training_images/frame53.jpg', '/content/gdrive/My Drive/Colab Notebooks/training_images/frame58.jpg', '/content/gdrive/My Drive/Colab Notebooks/training_images/frame55.jpg', '/content/gdrive/My Drive/Colab Notebooks/training_images/frame54.jpg', '/content/gdrive/My Drive/Colab Notebooks/training_images/frame56.jpg', '/content/gdrive/My Drive/Colab Notebooks/training_images/frame57.jpg', '/content/gdrive/My Drive/Colab Notebooks/training_images/frame59.jpg', '/content/gdrive/My Drive/Colab Notebooks/training_images/frame63.jpg', '/content/gdrive/My Drive/Colab Notebooks/training_images/frame6.jpg', '/content/gdrive/My Drive/Colab Notebooks/training_images/frame60.jpg', '/content/gdrive/My Drive/Colab Notebooks/training_images/frame61.jpg', '/content/gdrive/My Drive/Colab Notebooks/training_images/frame62.jpg', '/content/gdrive/My Drive/Colab Notebooks/training_images/frame64.jpg', '/content/gdrive/My Drive/Colab Notebooks/training_images/frame69.jpg', '/content/gdrive/My Drive/Colab Notebooks/training_images/frame65.jpg', '/content/gdrive/My Drive/Colab Notebooks/training_images/frame66.jpg', '/content/gdrive/My Drive/Colab Notebooks/training_images/frame67.jpg', '/content/gdrive/My Drive/Colab Notebooks/training_images/frame68.jpg', '/content/gdrive/My Drive/Colab Notebooks/training_images/frame7.jpg', '/content/gdrive/My Drive/Colab Notebooks/training_images/frame70.jpg', '/content/gdrive/My Drive/Colab Notebooks/training_images/frame71.jpg', '/content/gdrive/My Drive/Colab Notebooks/training_images/frame75.jpg', '/content/gdrive/My Drive/Colab Notebooks/training_images/frame73.jpg', '/content/gdrive/My Drive/Colab Notebooks/training_images/frame74.jpg', '/content/gdrive/My Drive/Colab Notebooks/training_images/frame72.jpg', '/content/gdrive/My Drive/Colab Notebooks/training_images/frame76.jpg', '/content/gdrive/My Drive/Colab Notebooks/training_images/frame77.jpg', '/content/gdrive/My Drive/Colab Notebooks/training_images/frame80.jpg', '/content/gdrive/My Drive/Colab Notebooks/training_images/frame8.jpg', '/content/gdrive/My Drive/Colab Notebooks/training_images/frame78.jpg', '/content/gdrive/My Drive/Colab Notebooks/training_images/frame79.jpg', '/content/gdrive/My Drive/Colab Notebooks/training_images/frame81.jpg', '/content/gdrive/My Drive/Colab Notebooks/training_images/frame82.jpg', '/content/gdrive/My Drive/Colab Notebooks/training_images/frame86.jpg', '/content/gdrive/My Drive/Colab Notebooks/training_images/frame84.jpg', '/content/gdrive/My Drive/Colab Notebooks/training_images/frame85.jpg', '/content/gdrive/My Drive/Colab Notebooks/training_images/frame83.jpg', '/content/gdrive/My Drive/Colab Notebooks/training_images/frame87.jpg', '/content/gdrive/My Drive/Colab Notebooks/training_images/frame88.jpg', '/content/gdrive/My Drive/Colab Notebooks/training_images/frame91.jpg', '/content/gdrive/My Drive/Colab Notebooks/training_images/frame9.jpg', '/content/gdrive/My Drive/Colab Notebooks/training_images/frame90.jpg', '/content/gdrive/My Drive/Colab Notebooks/training_images/frame89.jpg', '/content/gdrive/My Drive/Colab Notebooks/training_images/frame92.jpg', '/content/gdrive/My Drive/Colab Notebooks/training_images/frame93.jpg', '/content/gdrive/My Drive/Colab Notebooks/training_images/frame97.jpg', '/content/gdrive/My Drive/Colab Notebooks/training_images/frame95.jpg', '/content/gdrive/My Drive/Colab Notebooks/training_images/frame94.jpg', '/content/gdrive/My Drive/Colab Notebooks/training_images/frame96.jpg', '/content/gdrive/My Drive/Colab Notebooks/training_images/frame98.jpg', '/content/gdrive/My Drive/Colab Notebooks/training_images/frame99.jpg']\n"
          ],
          "name": "stdout"
        }
      ]
    },
    {
      "cell_type": "code",
      "metadata": {
        "id": "yLzxqysL7emP",
        "colab_type": "code",
        "colab": {}
      },
      "source": [
        "images = []\n",
        "for imagefile in jpg_filepaths:\n",
        "    image = Image.open( imagefile ).resize( ( input_dim , input_dim ))\n",
        "    image = np.asarray( image ) / 255.0\n",
        "    images.append( image )\n",
        "    \n",
        "bboxes = []\n",
        "classes_raw = []\n",
        "for xmlfile in xml_filepaths:\n",
        "#    try:\n",
        "    x = xmltodict.parse( open( xmlfile , 'rb' ) )\n",
        "    bndbox = x[ 'annotation' ][ 'object' ][ 'bndbox' ]\n",
        "    bndbox = np.array([ int(bndbox[ 'xmin' ]) , int(bndbox[ 'ymin' ]) , int(bndbox[ 'xmax' ]) , int(bndbox[ 'ymax' ]) ])\n",
        "    bndbox2 = [ None ] * 4\n",
        "    bndbox2[0] = bndbox[0]\n",
        "    bndbox2[1] = bndbox[1]\n",
        "    bndbox2[2] = bndbox[2]\n",
        "    bndbox2[3] = bndbox[3]\n",
        "    bndbox2 = np.array( bndbox2 ) / input_dim\n",
        "    bboxes.append( bndbox2 )\n",
        "    classes_raw.append( x[ 'annotation' ][ 'object' ][ 'name' ] )"
      ],
      "execution_count": 0,
      "outputs": []
    },
    {
      "cell_type": "code",
      "metadata": {
        "id": "HynxDQzl8BBy",
        "colab_type": "code",
        "colab": {}
      },
      "source": [
        "boxes = np.array( bboxes ) \n",
        "encoder = LabelBinarizer()\n",
        "#classes_onehot = encoder.fit_transform( classes_raw )\n",
        "classes_raw_trial=pd.DataFrame(classes_raw)\n",
        "dummy=pd.get_dummies(classes_raw_trial, columns=[0])\n",
        "dummy1=dummy.values\n",
        "classes_onehot=dummy1.astype(int)"
      ],
      "execution_count": 0,
      "outputs": []
    },
    {
      "cell_type": "code",
      "metadata": {
        "id": "PQS792vv8B5p",
        "colab_type": "code",
        "colab": {}
      },
      "source": [
        "Y = np.concatenate( [ boxes , classes_onehot ] , axis=1 )\n",
        "X = np.array( images )\n",
        "\n",
        "x_train, x_test, y_train, y_test = train_test_split( X, Y, test_size=0.1 )\n",
        "\n",
        "input_shape = ( input_dim , input_dim , 3 )\n",
        "dropout_rate = 0.5\n",
        "alpha = 0.2\n",
        "num_classes = 1\n",
        "pred_vector_length = 4 + num_classes"
      ],
      "execution_count": 0,
      "outputs": []
    },
    {
      "cell_type": "code",
      "metadata": {
        "id": "e5vKyZGO8Idy",
        "colab_type": "code",
        "outputId": "9d5246ea-cbf3-4f03-e94d-753ff0ca25d4",
        "colab": {
          "base_uri": "https://localhost:8080/",
          "height": 80
        }
      },
      "source": [
        "# Importing the Keras libraries and packages\n",
        "import keras\n",
        "from keras.models import Sequential\n",
        "from keras.layers import Conv2D\n",
        "from keras.layers import MaxPooling2D\n",
        "from keras.layers import Flatten\n",
        "from keras.layers import Dense"
      ],
      "execution_count": 0,
      "outputs": [
        {
          "output_type": "stream",
          "text": [
            "Using TensorFlow backend.\n"
          ],
          "name": "stderr"
        },
        {
          "output_type": "display_data",
          "data": {
            "text/html": [
              "<p style=\"color: red;\">\n",
              "The default version of TensorFlow in Colab will soon switch to TensorFlow 2.x.<br>\n",
              "We recommend you <a href=\"https://www.tensorflow.org/guide/migrate\" target=\"_blank\">upgrade</a> now \n",
              "or ensure your notebook will continue to use TensorFlow 1.x via the <code>%tensorflow_version 1.x</code> magic:\n",
              "<a href=\"https://colab.research.google.com/notebooks/tensorflow_version.ipynb\" target=\"_blank\">more info</a>.</p>\n"
            ],
            "text/plain": [
              "<IPython.core.display.HTML object>"
            ]
          },
          "metadata": {
            "tags": []
          }
        }
      ]
    },
    {
      "cell_type": "code",
      "metadata": {
        "id": "9sw3p3eH8LxX",
        "colab_type": "code",
        "outputId": "b029789f-e4ed-4b91-9c5e-4e2941e1c707",
        "colab": {
          "base_uri": "https://localhost:8080/",
          "height": 71
        }
      },
      "source": [
        "model_layers = [        \n",
        "\tkeras.layers.Conv2D(16, kernel_size=(3, 3), strides=1, input_shape=input_shape),\n",
        "    keras.layers.LeakyReLU( alpha=alpha ) ,\n",
        "    keras.layers.Conv2D(16, kernel_size=(3, 3), strides=1 ),\n",
        "    keras.layers.LeakyReLU( alpha=alpha ) ,\n",
        "    keras.layers.MaxPooling2D( pool_size=( 2 , 2 ) ),\n",
        "\n",
        "    keras.layers.Conv2D(32, kernel_size=(3, 3), strides=1),\n",
        "    keras.layers.LeakyReLU( alpha=alpha ) ,\n",
        "    keras.layers.Conv2D(32, kernel_size=(3, 3), strides=1),\n",
        "    keras.layers.LeakyReLU( alpha=alpha ) ,\n",
        "    keras.layers.MaxPooling2D( pool_size=( 2 , 2 ) ),\n",
        "\n",
        "    keras.layers.Conv2D(64, kernel_size=(3, 3), strides=1),\n",
        "    keras.layers.LeakyReLU( alpha=alpha ) ,\n",
        "    keras.layers.Conv2D(64, kernel_size=(3, 3), strides=1),\n",
        "    keras.layers.LeakyReLU( alpha=alpha ) ,\n",
        "    keras.layers.MaxPooling2D( pool_size=( 2 , 2 ) ),\n",
        "\n",
        "    keras.layers.Conv2D(128, kernel_size=(3, 3), strides=1),\n",
        "    keras.layers.LeakyReLU( alpha=alpha ) ,\n",
        "    keras.layers.Conv2D(128, kernel_size=(3, 3), strides=1),\n",
        "    keras.layers.LeakyReLU( alpha=alpha ) ,\n",
        "    keras.layers.MaxPooling2D( pool_size=( 2 , 2 ) ),\n",
        "\n",
        "    keras.layers.Conv2D(256, kernel_size=(3, 3), strides=1),\n",
        "    keras.layers.LeakyReLU( alpha=alpha ) ,\n",
        "    keras.layers.Conv2D(256, kernel_size=(3, 3), strides=1),\n",
        "    keras.layers.LeakyReLU( alpha=alpha ) ,\n",
        "    keras.layers.MaxPooling2D( pool_size=( 2 , 2 ) ),\n",
        "\n",
        "    keras.layers.Flatten() , \n",
        "\n",
        "    keras.layers.Dense( 1240 ) , \n",
        "    keras.layers.LeakyReLU( alpha=alpha ) ,\n",
        "    keras.layers.Dense( 640 ) , \n",
        "    keras.layers.LeakyReLU( alpha=alpha ) ,\n",
        "    keras.layers.Dense( 480 ) , \n",
        "    keras.layers.LeakyReLU( alpha=alpha ) ,\n",
        "    keras.layers.Dense( 120 ) , \n",
        "    keras.layers.LeakyReLU( alpha=alpha ) ,\n",
        "    keras.layers.Dense( 62 ) , \n",
        "    keras.layers.LeakyReLU( alpha=alpha ) ,\n",
        "\n",
        "\n",
        "    keras.layers.Dense(pred_vector_length),\n",
        "    keras.layers.LeakyReLU( alpha=alpha ) ,\n",
        "]"
      ],
      "execution_count": 0,
      "outputs": [
        {
          "output_type": "stream",
          "text": [
            "WARNING:tensorflow:From /usr/local/lib/python3.6/dist-packages/keras/backend/tensorflow_backend.py:66: The name tf.get_default_graph is deprecated. Please use tf.compat.v1.get_default_graph instead.\n",
            "\n"
          ],
          "name": "stdout"
        }
      ]
    },
    {
      "cell_type": "code",
      "metadata": {
        "id": "2uvo23H48SpB",
        "colab_type": "code",
        "outputId": "aac6a30a-c060-4b05-ec59-4914821b8338",
        "colab": {
          "base_uri": "https://localhost:8080/",
          "height": 530
        }
      },
      "source": [
        "model = keras.Sequential( model_layers )\n",
        "model.compile(\n",
        "\toptimizer=keras.optimizers.Adam( lr=0.0001 ),\n",
        "\tloss='mean_squared_error',\n",
        "    metrics=['accuracy']\n",
        ")\n",
        "\n",
        "\n",
        "model.fit( \n",
        "    x_train ,\n",
        "    y_train , \n",
        "    validation_data=( x_test , y_test ),\n",
        "    epochs=2 ,\n",
        "    batch_size=1) \n",
        "\n",
        "model.save( '/content/gdrive/My Drive/Colab Notebooks/pretrained_weights/model.h5')\n"
      ],
      "execution_count": 0,
      "outputs": [
        {
          "output_type": "stream",
          "text": [
            "WARNING:tensorflow:From /usr/local/lib/python3.6/dist-packages/keras/backend/tensorflow_backend.py:541: The name tf.placeholder is deprecated. Please use tf.compat.v1.placeholder instead.\n",
            "\n",
            "WARNING:tensorflow:From /usr/local/lib/python3.6/dist-packages/keras/backend/tensorflow_backend.py:4432: The name tf.random_uniform is deprecated. Please use tf.random.uniform instead.\n",
            "\n",
            "WARNING:tensorflow:From /usr/local/lib/python3.6/dist-packages/keras/backend/tensorflow_backend.py:4267: The name tf.nn.max_pool is deprecated. Please use tf.nn.max_pool2d instead.\n",
            "\n",
            "WARNING:tensorflow:From /usr/local/lib/python3.6/dist-packages/keras/optimizers.py:793: The name tf.train.Optimizer is deprecated. Please use tf.compat.v1.train.Optimizer instead.\n",
            "\n",
            "WARNING:tensorflow:From /usr/local/lib/python3.6/dist-packages/keras/backend/tensorflow_backend.py:1033: The name tf.assign_add is deprecated. Please use tf.compat.v1.assign_add instead.\n",
            "\n",
            "WARNING:tensorflow:From /usr/local/lib/python3.6/dist-packages/keras/backend/tensorflow_backend.py:1020: The name tf.assign is deprecated. Please use tf.compat.v1.assign instead.\n",
            "\n",
            "WARNING:tensorflow:From /usr/local/lib/python3.6/dist-packages/keras/backend/tensorflow_backend.py:3005: The name tf.Session is deprecated. Please use tf.compat.v1.Session instead.\n",
            "\n",
            "Train on 300 samples, validate on 34 samples\n",
            "Epoch 1/2\n",
            "WARNING:tensorflow:From /usr/local/lib/python3.6/dist-packages/keras/backend/tensorflow_backend.py:190: The name tf.get_default_session is deprecated. Please use tf.compat.v1.get_default_session instead.\n",
            "\n",
            "WARNING:tensorflow:From /usr/local/lib/python3.6/dist-packages/keras/backend/tensorflow_backend.py:197: The name tf.ConfigProto is deprecated. Please use tf.compat.v1.ConfigProto instead.\n",
            "\n",
            "WARNING:tensorflow:From /usr/local/lib/python3.6/dist-packages/keras/backend/tensorflow_backend.py:207: The name tf.global_variables is deprecated. Please use tf.compat.v1.global_variables instead.\n",
            "\n",
            "WARNING:tensorflow:From /usr/local/lib/python3.6/dist-packages/keras/backend/tensorflow_backend.py:216: The name tf.is_variable_initialized is deprecated. Please use tf.compat.v1.is_variable_initialized instead.\n",
            "\n",
            "WARNING:tensorflow:From /usr/local/lib/python3.6/dist-packages/keras/backend/tensorflow_backend.py:223: The name tf.variables_initializer is deprecated. Please use tf.compat.v1.variables_initializer instead.\n",
            "\n",
            "300/300 [==============================] - 71s 236ms/step - loss: 0.1514 - acc: 0.5300 - val_loss: 0.0721 - val_acc: 0.6176\n",
            "Epoch 2/2\n",
            "300/300 [==============================] - 69s 229ms/step - loss: 0.0679 - acc: 0.6300 - val_loss: 0.0619 - val_acc: 0.5294\n"
          ],
          "name": "stdout"
        }
      ]
    },
    {
      "cell_type": "code",
      "metadata": {
        "id": "PH0hlWqC8d6P",
        "colab_type": "code",
        "colab": {}
      },
      "source": [
        "boxes_original = model.predict( x_test )\n",
        "for i in range( boxes.shape[0] ):\n",
        "    b = boxes[ i , 0 : 4 ] * input_dim\n",
        "    img = x_test[i] * 255\n",
        "    source_img = Image.fromarray( img.astype( np.uint8 ) , 'RGB' )\n",
        "    draw = ImageDraw.Draw( source_img )\n",
        "    draw.rectangle( b , outline =\"yellow\" )\n",
        "    source_img.save( '/content/gdrive/My Drive/Colab Notebooks/result/image_{}.png'.format( i + 1 ) , 'png' )"
      ],
      "execution_count": 0,
      "outputs": []
    },
    {
      "cell_type": "code",
      "metadata": {
        "id": "Z5wy4Y9N8p8H",
        "colab_type": "code",
        "colab": {}
      },
      "source": [
        "from google.colab.patches import cv2_imshow\n",
        "def detect(frame):\n",
        "#    img1 = cv2.imread(r'C:\\Users\\user\\Desktop\\ultra.jpg')\n",
        "    image_re1=cv2.resize(frame, (input_dim , input_dim))\n",
        "    image1 = np.asarray( image_re1 ) / 255.0\n",
        "    #images1.append( image1 )\n",
        "    #X = np.array( images1 )\n",
        "    #data1 = image1.reshape((image1.shape[0], image1.shape[1],image1.shape[2], 1))\n",
        "    data1 = image1.reshape((1,image1.shape[0], image1.shape[1],image1.shape[2]))\n",
        "    \n",
        "    boxes = model.predict( data1)\n",
        "    b = boxes[ 0 , 0 : 4 ] * input_dim\n",
        "    \n",
        "    img = data1 * 255\n",
        "    data11 = img.reshape((image1.shape[0], image1.shape[1],-1))\n",
        "    \n",
        "    img_cv = data11.astype(np.uint8)\n",
        "    img_cv1 = cv2.rectangle(img_cv,(int(b[2]), int(b[3])),(int(b[0]),int(b[1])),(0,255,0),2)\n",
        "    \n",
        "    cv2_imshow(img_cv)\n",
        "\n",
        "#    source_img = Image.fromarray( img.astype( np.uint8 ) , 'RGB' )\n",
        "#    cv2.imshow('image', source_img)\n",
        "    #source_img.show()\n",
        "#    draw = ImageDraw.Draw( source_img )\n",
        "#    new_image_avi=draw.rectangle(b , outline =\"red\" )\n",
        "    return img_cv1\n",
        "\n",
        "cap = cv2.VideoCapture(r'/content/gdrive/My Drive/Colab Notebooks/Vedio/Ultrasound_vedio.MP4')"
      ],
      "execution_count": 0,
      "outputs": []
    },
    {
      "cell_type": "code",
      "metadata": {
        "id": "GPCtfz5I9PC9",
        "colab_type": "code",
        "colab": {}
      },
      "source": [
        "from google.colab.patches import cv2_imshow\n",
        "while(True):\n",
        "    # Capture frame-by-frame\n",
        "    ret, frame = cap.read()\n",
        "    canvas=detect(frame)\n",
        "    # Our operations on the frame come here\n",
        "    # Display the resulting frame\n",
        "    cv2_imshow(canvas)\n",
        "    if cv2.waitKey(1) & 0xFF == ord('q'):\n",
        "        break\n",
        "\n",
        "# When everything done, release the capture\n",
        "cap.release()\n",
        "cv2.destroyAllWindows()\n"
      ],
      "execution_count": 0,
      "outputs": []
    }
  ]
}